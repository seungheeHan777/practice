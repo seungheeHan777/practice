{
 "cells": [
  {
   "cell_type": "markdown",
   "id": "93852786",
   "metadata": {},
   "source": [
    "# 정렬 라이브러리"
   ]
  },
  {
   "cell_type": "markdown",
   "id": "7472eb34",
   "metadata": {},
   "source": [
    "파이썬은 기본 정렬 라이브러리인 sorted()함수를 제공한다."
   ]
  },
  {
   "cell_type": "markdown",
   "id": "2d1c8af2",
   "metadata": {},
   "source": [
    "sorted()는 퀵 정렬과 동작 방식이 비슷한 병합 정렬을 기반으로 만들어졌다.\n",
    "\n",
    "병합 정렬은 퀵 정렬보다 느리지만 최악의 경우에도 시간 복잡도 O(N logN)을 보장한다는 특징이 있다. \n",
    "\n",
    "이러한 sorted 함수는 리스트와 딕셔너리 자료형을 입력받아서 정렬된 결과를 출력한다. 집합 자료형이나 딕셔너리 자료형을 입력받아도 반환되는 결과는 리스트 자료형이다."
   ]
  },
  {
   "cell_type": "markdown",
   "id": "bbfb55be",
   "metadata": {},
   "source": [
    "### sorted 소스코드"
   ]
  },
  {
   "cell_type": "code",
   "execution_count": 4,
   "id": "40cbcf41",
   "metadata": {},
   "outputs": [],
   "source": [
    "array=[7,5,9,0,3,1,6,2,4,8]"
   ]
  },
  {
   "cell_type": "code",
   "execution_count": 5,
   "id": "16e322cb",
   "metadata": {},
   "outputs": [],
   "source": [
    "result = sorted(array)"
   ]
  },
  {
   "cell_type": "code",
   "execution_count": 6,
   "id": "a80a4052",
   "metadata": {},
   "outputs": [
    {
     "name": "stdout",
     "output_type": "stream",
     "text": [
      "[0, 1, 2, 3, 4, 5, 6, 7, 8, 9]\n"
     ]
    }
   ],
   "source": [
    "print(result)"
   ]
  },
  {
   "cell_type": "markdown",
   "id": "7df981b3",
   "metadata": {},
   "source": [
    "리스트 변수가 하나 있을 때 내부 원소를 바로 정렬하는 것도 가능하다.\n",
    "\n",
    "리스트 객체의 내장 함수인 sort()를 이용하는 것이다. 이를 사용하면 내부 원소가 바로 정렬된다.\n"
   ]
  },
  {
   "cell_type": "markdown",
   "id": "42b44e8e",
   "metadata": {},
   "source": [
    "### sort 소스코드"
   ]
  },
  {
   "cell_type": "code",
   "execution_count": 8,
   "id": "f27c91be",
   "metadata": {},
   "outputs": [
    {
     "name": "stdout",
     "output_type": "stream",
     "text": [
      "[0, 1, 2, 3, 4, 5, 6, 7, 8, 9]\n"
     ]
    }
   ],
   "source": [
    "array.sort()\n",
    "print(array)"
   ]
  },
  {
   "cell_type": "markdown",
   "id": "2bec9cf1",
   "metadata": {},
   "source": [
    "### key를 정렬 라이브러리에서 활용한 소스코드"
   ]
  },
  {
   "cell_type": "code",
   "execution_count": 9,
   "id": "33c2e8c2",
   "metadata": {},
   "outputs": [],
   "source": [
    "array = [('바나나',2),('사과',5),('당근',3)]"
   ]
  },
  {
   "cell_type": "code",
   "execution_count": 12,
   "id": "e627af45",
   "metadata": {},
   "outputs": [],
   "source": [
    "def setting(data):\n",
    "    return data[1]\n",
    "# 데이터의 2번째 원소를 기준으로 설정\n",
    "result = sorted(array, key=setting)"
   ]
  },
  {
   "cell_type": "code",
   "execution_count": 13,
   "id": "d136e903",
   "metadata": {},
   "outputs": [
    {
     "name": "stdout",
     "output_type": "stream",
     "text": [
      "[('바나나', 2), ('당근', 3), ('사과', 5)]\n"
     ]
    }
   ],
   "source": [
    "print(result)"
   ]
  },
  {
   "cell_type": "markdown",
   "id": "0328e2c6",
   "metadata": {},
   "source": [
    "## 정렬 라이브러리의 시간 복잡도"
   ]
  },
  {
   "cell_type": "markdown",
   "id": "5471d7c3",
   "metadata": {},
   "source": [
    "정렬 라이브러리는 항상 최악의 경우에도 시간 복잡도 O(N logN)을 보장한다.\n",
    "\n",
    "정렬 라이브러리는 이미 잘 작성된 함수이므로 직접 퀵 정렬을 구현할 때보다 더 효과적이다. \n",
    "\n",
    "파이썬은 병합 정렬과 삽입 정렬의 아이디어를 더한 하이브리드 방식의 정렬 알고리즘을 사용하고 있다.\n",
    "\n",
    "따라서 문제에서 별도의 요구가 없다면 기본 정렬 라이브러리를 사용하고, 데이터의 범위가 한정되어 있고 빠르게 동작해야 하는 상황에서는 계수 정렬을 사용하자.\n",
    "\n"
   ]
  },
  {
   "cell_type": "markdown",
   "id": "5739e543",
   "metadata": {},
   "source": [
    "    1. 정렬 라이브러리로 풀 수 있는 문제: 단순히 정렬 기법을 알고 있는지 물어보는 문제로 기본 정렬 라이브러리의 사용 방법을 숙지하고 있으면 어렵지 않게 풀 수 있다.\n",
    "    \n",
    "    2. 정렬 알고리즘의 원리에 대해서 물어보는 문제: 선택 정렬, 삽입 정렬, 퀵 정렬 등의 원리를 알고 있어야 풀 수 있다.\n",
    "    \n",
    "    3. 더 빠른 정렬이 필요한 문제: 퀵 정렬 기반의 정렬 기법으로는 풀 수 없으며 계수 정렬 등의 다른 정렬 알고리즘을 이용하거나 문제에서 기존에 알려진 알고리즘의 구조적인 개선을 거쳐야 풀 수 있다."
   ]
  }
 ],
 "metadata": {
  "kernelspec": {
   "display_name": "Python 3",
   "language": "python",
   "name": "python3"
  },
  "language_info": {
   "codemirror_mode": {
    "name": "ipython",
    "version": 3
   },
   "file_extension": ".py",
   "mimetype": "text/x-python",
   "name": "python",
   "nbconvert_exporter": "python",
   "pygments_lexer": "ipython3",
   "version": "3.8.8"
  }
 },
 "nbformat": 4,
 "nbformat_minor": 5
}
